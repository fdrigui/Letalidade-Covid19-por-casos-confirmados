{
 "cells": [
  {
   "cell_type": "code",
   "execution_count": 1,
   "id": "e681d07a-7347-428b-82c3-c730e10db1f9",
   "metadata": {},
   "outputs": [],
   "source": [
    "# Import de Bibliotecas\n",
    "import pandas as pd\n",
    "import matplotlib as mpl\n",
    "from matplotlib import pyplot as plt\n",
    "import seaborn as sns"
   ]
  },
  {
   "cell_type": "code",
   "execution_count": 3,
   "id": "6aec99d9-0b89-470d-b12c-8499d8be0454",
   "metadata": {},
   "outputs": [],
   "source": [
    "# NB Configuration\n",
    "\n",
    "%config InlineBackend.figure_format = 'retina'\n",
    "sns.set_context('talk')\n",
    "plt.style.use(r'../../src/visualization/my_style.mplstyle')"
   ]
  },
  {
   "cell_type": "code",
   "execution_count": 6,
   "id": "f3d4c3f9-3356-4699-8234-a8356dae83f9",
   "metadata": {},
   "outputs": [],
   "source": [
    "path = r'../../data/raw/boletim.csv.gz'\n",
    "df = pd.read_csv(path)"
   ]
  },
  {
   "cell_type": "code",
   "execution_count": 25,
   "id": "47796ae3-eb69-452e-9e8e-95872e8f8ec3",
   "metadata": {},
   "outputs": [
    {
     "data": {
      "text/html": [
       "<div>\n",
       "<style scoped>\n",
       "    .dataframe tbody tr th:only-of-type {\n",
       "        vertical-align: middle;\n",
       "    }\n",
       "\n",
       "    .dataframe tbody tr th {\n",
       "        vertical-align: top;\n",
       "    }\n",
       "\n",
       "    .dataframe thead th {\n",
       "        text-align: right;\n",
       "    }\n",
       "</style>\n",
       "<table border=\"1\" class=\"dataframe\">\n",
       "  <thead>\n",
       "    <tr style=\"text-align: right;\">\n",
       "      <th></th>\n",
       "      <th>index</th>\n",
       "      <th>notes</th>\n",
       "    </tr>\n",
       "  </thead>\n",
       "  <tbody>\n",
       "    <tr>\n",
       "      <th>0</th>\n",
       "      <td>11</td>\n",
       "      <td>https://www.instagram.com/p/B-Lba2CpJML/</td>\n",
       "    </tr>\n",
       "    <tr>\n",
       "      <th>1</th>\n",
       "      <td>15</td>\n",
       "      <td>Boletim das 21h - Adiciona uma confirmação. O ...</td>\n",
       "    </tr>\n",
       "    <tr>\n",
       "      <th>2</th>\n",
       "      <td>16</td>\n",
       "      <td>Boletim informa que o novo caso deu entrada pe...</td>\n",
       "    </tr>\n",
       "    <tr>\n",
       "      <th>3</th>\n",
       "      <td>18</td>\n",
       "      <td>4 casos adicionados</td>\n",
       "    </tr>\n",
       "    <tr>\n",
       "      <th>4</th>\n",
       "      <td>27</td>\n",
       "      <td>Adiciona um caso em Macapá</td>\n",
       "    </tr>\n",
       "    <tr>\n",
       "      <th>...</th>\n",
       "      <td>...</td>\n",
       "      <td>...</td>\n",
       "    </tr>\n",
       "    <tr>\n",
       "      <th>2663</th>\n",
       "      <td>13483</td>\n",
       "      <td>Dados totais coletados da Secretaria Estadual ...</td>\n",
       "    </tr>\n",
       "    <tr>\n",
       "      <th>2664</th>\n",
       "      <td>13485</td>\n",
       "      <td>Dados extraídos do github do SEADE.</td>\n",
       "    </tr>\n",
       "    <tr>\n",
       "      <th>2665</th>\n",
       "      <td>13512</td>\n",
       "      <td>Dados Extraídos da Fundação SEADE.</td>\n",
       "    </tr>\n",
       "    <tr>\n",
       "      <th>2666</th>\n",
       "      <td>13514</td>\n",
       "      <td>Planilha extraída da SEADE.</td>\n",
       "    </tr>\n",
       "    <tr>\n",
       "      <th>2667</th>\n",
       "      <td>13515</td>\n",
       "      <td>Números extraídos da SEADE.</td>\n",
       "    </tr>\n",
       "  </tbody>\n",
       "</table>\n",
       "<p>2668 rows × 2 columns</p>\n",
       "</div>"
      ],
      "text/plain": [
       "      index                                              notes\n",
       "0        11           https://www.instagram.com/p/B-Lba2CpJML/\n",
       "1        15  Boletim das 21h - Adiciona uma confirmação. O ...\n",
       "2        16  Boletim informa que o novo caso deu entrada pe...\n",
       "3        18                                4 casos adicionados\n",
       "4        27                         Adiciona um caso em Macapá\n",
       "...     ...                                                ...\n",
       "2663  13483  Dados totais coletados da Secretaria Estadual ...\n",
       "2664  13485                Dados extraídos do github do SEADE.\n",
       "2665  13512                 Dados Extraídos da Fundação SEADE.\n",
       "2666  13514                        Planilha extraída da SEADE.\n",
       "2667  13515                        Números extraídos da SEADE.\n",
       "\n",
       "[2668 rows x 2 columns]"
      ]
     },
     "execution_count": 25,
     "metadata": {},
     "output_type": "execute_result"
    }
   ],
   "source": [
    "df['notes'].dropna().reset_index()"
   ]
  },
  {
   "cell_type": "markdown",
   "id": "f1e7f1bd-fdbf-4b7a-9f09-aaf71985b614",
   "metadata": {},
   "source": [
    "# Conclusão"
   ]
  },
  {
   "cell_type": "markdown",
   "id": "2cf694e1-7a9a-4f6e-aded-97f45a100392",
   "metadata": {},
   "source": [
    "Esse arquivo se refere aos boletins lidos para a criação do DataFrame."
   ]
  },
  {
   "cell_type": "code",
   "execution_count": null,
   "id": "4a81fbcd-978e-49f8-8992-135caca1fbd5",
   "metadata": {},
   "outputs": [],
   "source": []
  }
 ],
 "metadata": {
  "kernelspec": {
   "display_name": "Python 3",
   "language": "python",
   "name": "python3"
  },
  "language_info": {
   "codemirror_mode": {
    "name": "ipython",
    "version": 3
   },
   "file_extension": ".py",
   "mimetype": "text/x-python",
   "name": "python",
   "nbconvert_exporter": "python",
   "pygments_lexer": "ipython3",
   "version": "3.8.10"
  }
 },
 "nbformat": 4,
 "nbformat_minor": 5
}
